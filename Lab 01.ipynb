{
  "nbformat": 4,
  "nbformat_minor": 0,
  "metadata": {
    "colab": {
      "provenance": [],
      "authorship_tag": "ABX9TyPT2fZ36XjD77CRIW0PFtJx"
    },
    "kernelspec": {
      "name": "python3",
      "display_name": "Python 3"
    },
    "language_info": {
      "name": "python"
    }
  },
  "cells": [
    {
      "cell_type": "code",
      "execution_count": null,
      "metadata": {
        "id": "qwkF7ZPHWRIM"
      },
      "outputs": [],
      "source": [
        "!pip install stopwords\n",
        "\n",
        "import tensorflow as tf\n",
        "\n",
        "import stopwords\n",
        "\n",
        "import numpy as np"
      ]
    },
    {
      "cell_type": "code",
      "source": [
        "import tensorflow_datasets as tfds\n",
        "\n",
        "tfds.disable_progress_bar()"
      ],
      "metadata": {
        "id": "A1IQv7gOX1RS"
      },
      "execution_count": 2,
      "outputs": []
    },
    {
      "cell_type": "code",
      "source": [
        "data = \"imdb_reviews\"\n",
        "\n",
        "split = [\"train\", \"test\"]\n",
        "\n",
        "ontrue = True\n",
        "\n",
        "(train, test) = tfds.load(data, split=split, as_supervised=ontrue)"
      ],
      "metadata": {
        "id": "_tBvgJPyX3YX"
      },
      "execution_count": null,
      "outputs": []
    },
    {
      "cell_type": "code",
      "source": [
        "import stopwords\n",
        "\n",
        "unlist = stopwords.get_stopwords(\"english\")\n",
        "\n",
        "type(unlist)"
      ],
      "metadata": {
        "colab": {
          "base_uri": "https://localhost:8080/"
        },
        "id": "_Hk-wVI1ZS8K",
        "outputId": "df60421a-3a2f-459d-cd0b-3bef53099fe6"
      },
      "execution_count": 4,
      "outputs": [
        {
          "output_type": "execute_result",
          "data": {
            "text/plain": [
              "list"
            ]
          },
          "metadata": {},
          "execution_count": 4
        }
      ]
    },
    {
      "cell_type": "code",
      "source": [
        "import string\n",
        "\n",
        "stringter = lambda i: i.translate(str.maketrans('', '', string.punctuation))"
      ],
      "metadata": {
        "id": "TIbAERGgZoUK"
      },
      "execution_count": null,
      "outputs": []
    },
    {
      "cell_type": "code",
      "source": [
        "train_input = []; train_label = []\n",
        "\n",
        "test_input = []; test_label = []\n",
        "\n",
        "spliter = lambda snt : [i for i in snt.split() if i not in unlist]\n",
        "\n",
        "retori = lambda sentence : spliter(stringter(sentence.lower()))\n",
        "\n",
        "for data, label in train:\n",
        "  retari = \" \".join(retori(data.numpy().decode(\"utf8\")))\n",
        "  train_input.append(retari)\n",
        "  train_label.append(label.numpy())\n",
        "\n",
        "for data, label in test:\n",
        "  retari = \" \".join(retori(data.numpy().decode(\"utf8\")))\n",
        "  test_input.append(retari)\n",
        "  test_label.append(label.numpy())"
      ],
      "metadata": {
        "id": "FSJU8u2zapt5"
      },
      "execution_count": 6,
      "outputs": []
    }
  ]
}