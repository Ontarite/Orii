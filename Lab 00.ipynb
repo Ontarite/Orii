{
  "nbformat": 4,
  "nbformat_minor": 0,
  "metadata": {
    "colab": {
      "provenance": []
    },
    "kernelspec": {
      "name": "python3",
      "display_name": "Python 3"
    },
    "language_info": {
      "name": "python"
    }
  },
  "cells": [
    {
      "cell_type": "markdown",
      "source": [
        "`Simple Autoregressive Conditional Heteroskedasticity`"
      ],
      "metadata": {
        "id": "ECk3_O8fYKsT"
      }
    },
    {
      "cell_type": "code",
      "execution_count": 1,
      "metadata": {
        "id": "3NQ9AYMFUWap"
      },
      "outputs": [],
      "source": [
        "import numpy as np\n",
        "\n",
        "import statsmodels.api as sm"
      ]
    },
    {
      "cell_type": "code",
      "source": [
        "np.random.seed(100)\n",
        "\n",
        "total = 1000\n",
        "\n",
        "eps = np.random.randn(total)\n",
        "\n",
        "eps[:5]"
      ],
      "metadata": {
        "colab": {
          "base_uri": "https://localhost:8080/"
        },
        "id": "9OdBBfAbUgB1",
        "outputId": "e791cd29-daf6-4a8a-fffe-ed66a9a97af1"
      },
      "execution_count": 2,
      "outputs": [
        {
          "output_type": "execute_result",
          "data": {
            "text/plain": [
              "array([-1.74976547,  0.3426804 ,  1.1530358 , -0.25243604,  0.98132079])"
            ]
          },
          "metadata": {},
          "execution_count": 2
        }
      ]
    },
    {
      "cell_type": "code",
      "source": [
        "sigma = np.zeros(total)\n",
        "\n",
        "sigma[:5]"
      ],
      "metadata": {
        "colab": {
          "base_uri": "https://localhost:8080/"
        },
        "id": "XP-wxffGU6R4",
        "outputId": "fb188ec5-1dcc-4281-c70f-7a026caa4637"
      },
      "execution_count": 3,
      "outputs": [
        {
          "output_type": "execute_result",
          "data": {
            "text/plain": [
              "array([0., 0., 0., 0., 0.])"
            ]
          },
          "metadata": {},
          "execution_count": 3
        }
      ]
    },
    {
      "cell_type": "code",
      "source": [
        "sigma[0] = 0.05\n",
        "\n",
        "for i in range(1, total):\n",
        "  sigma[i] = 0.01 + 0.8 * sigma[i - 1] + 0.2 * np.power(eps[i - 1], 2)\n",
        "\n",
        "sigma[:5]"
      ],
      "metadata": {
        "colab": {
          "base_uri": "https://localhost:8080/"
        },
        "id": "V1BIBdX3VF1s",
        "outputId": "f2f9c994-fc77-4938-fb6b-72b0ea60aedb"
      },
      "execution_count": 4,
      "outputs": [
        {
          "output_type": "execute_result",
          "data": {
            "text/plain": [
              "array([0.05      , 0.66233584, 0.56335465, 0.72658203, 0.60401041])"
            ]
          },
          "metadata": {},
          "execution_count": 4
        }
      ]
    },
    {
      "cell_type": "code",
      "source": [
        "returns = np.sqrt(sigma) * eps\n",
        "\n",
        "returns[:5]"
      ],
      "metadata": {
        "colab": {
          "base_uri": "https://localhost:8080/"
        },
        "id": "j9wZu-frVSOd",
        "outputId": "a68ae699-a540-4732-ecea-17f0f54ae93a"
      },
      "execution_count": 5,
      "outputs": [
        {
          "output_type": "execute_result",
          "data": {
            "text/plain": [
              "array([-0.39125945,  0.27888708,  0.86543356, -0.21517593,  0.76266394])"
            ]
          },
          "metadata": {},
          "execution_count": 5
        }
      ]
    }
  ]
}